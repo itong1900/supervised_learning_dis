{
 "cells": [
  {
   "cell_type": "markdown",
   "metadata": {},
   "source": [
    "### Problem Set up\n",
    "In this question we compare the effectiveness of different linear classifiers and regression\n",
    "models on the Boston housing and Iris dataset."
   ]
  },
  {
   "cell_type": "markdown",
   "metadata": {},
   "source": [
    "### Background\n",
    "The Boston housing dataset involves predicting average housing prices in an area given\n",
    "features of the area (e.g. average number of rooms per house, average age of owners,\n",
    "etc...). The Iris dataset involves predicting between 3 types of irises given the features\n",
    "of the plant (e.g. petal length, petal width, etc...), however here we only predict on the\n",
    "first two iris types to keep the dataset binary."
   ]
  },
  {
   "cell_type": "code",
   "execution_count": 1,
   "metadata": {},
   "outputs": [],
   "source": [
    "import matplotlib.pyplot as plt\n",
    "import numpy as np\n",
    "import seaborn as sns\n",
    "from sklearn.datasets import load_boston, load_iris\n",
    "from sklearn.preprocessing import PolynomialFeatures\n",
    "import math"
   ]
  },
  {
   "cell_type": "markdown",
   "metadata": {},
   "source": [
    "### Loading datasets\n",
    "We begin by loading both the Boston and Iris datasets."
   ]
  },
  {
   "cell_type": "code",
   "execution_count": 8,
   "metadata": {},
   "outputs": [],
   "source": [
    "# Define a random state for reproducibility.\n",
    "random_state = np.random.RandomState(0)\n",
    "\n",
    "# Load and shuffle the Boston dataset. Only subsample some features.\n",
    "boston_X, boston_y = load_boston(return_X_y=True)\n",
    "permutation = random_state.permutation(boston_X.shape[0])\n",
    "boston_X = boston_X[permutation][:, [5, 6]]\n",
    "boston_y = boston_y[permutation]\n",
    "\n",
    "# Split the dataset into train and test sets.\n",
    "boston_X_train = boston_X[:-100]\n",
    "boston_y_train = boston_y[:-100]\n",
    "boston_X_test = boston_X[-100:]\n",
    "boston_y_test = boston_y[-100:]\n",
    "\n",
    "# Create a new featurization for the boston dataset by turning the current\n",
    "# features into a tenth degree polynomial.\n",
    "boston_poly_X_train = PolynomialFeatures(8).fit_transform(boston_X_train)\n",
    "boston_poly_X_test = PolynomialFeatures(8).fit_transform(boston_X_test)\n",
    "\n",
    "# Now load and shuffle the Iris dataset.\n",
    "# Discarding all output labels that correspond to a 2.\n",
    "iris_X, iris_y = load_iris(return_X_y=True)\n",
    "iris_X = iris_X[:100]\n",
    "iris_y = iris_y[:100]\n",
    "permutation = random_state.permutation(iris_X.shape[0])\n",
    "iris_X = iris_X[permutation]\n",
    "iris_y = iris_y[permutation]\n",
    "\n",
    "# Split the dataset into train and test sets.\n",
    "iris_X_train = iris_X[:-20]\n",
    "iris_y_train = iris_y[:-20]\n",
    "iris_X_test = iris_X[-20:]\n",
    "iris_y_test = iris_y[-20:]"
   ]
  },
  {
   "cell_type": "markdown",
   "metadata": {},
   "source": [
    "###  Regression and Prediction functions \n",
    "We now define the regression and prediction functions. \n",
    "\n",
    "The squared loss (with regularization) with respect to linear regression is defined as $\\|X\\beta - y\\|_2^2 + \\lambda \\|\\beta\\|_2^2$ where $\\beta$ is the linear model, $X$ is the feature matrix, $\\lambda$ is a regularization term, and $y$ are the true output values. The derivative of $\\|X\\beta - y\\|_2^2$ with respect to $\\beta$ is $2X^{\\top}(X\\beta - y)$ and the derivative of $\\lambda \\|\\beta\\|_2^2$ is $2\\lambda \\beta$.\n",
    "\n",
    "The cross entropy loss with respect to logistic regression is defined as $-\\frac{1}{n} \\sum_{i=1}^n \\left[y_i \\log \\sigma(x_i^{\\top}\\beta) + (1 - y_i)\\log\\sigma(-x_i^{\\top}\\beta)\\right]$."
   ]
  },
  {
   "cell_type": "code",
   "execution_count": 2,
   "metadata": {},
   "outputs": [],
   "source": [
    "def regression_predict(X, beta):\n",
    "    \"\"\"Given a linear model (aka a vector) and a feature matrix\n",
    "    predict the output vector.\n",
    "    \n",
    "    Parameters\n",
    "    ----------\n",
    "    X : numpy array of shape nxd\n",
    "        The feature matrix where each row corresponds to a single\n",
    "        feature vector.\n",
    "    beta : numpy array of shape d\n",
    "        The linear model.\n",
    "    \n",
    "    Returns\n",
    "    -------\n",
    "    y : numpy array of shape n\n",
    "        The predicted output vector.\n",
    "    \"\"\"\n",
    "    y = np.dot(X,beta).T\n",
    "    return y\n",
    "\n",
    "def regression_least_squares(X, true_y, lambda_value):\n",
    "    \"\"\"Compute the optimal linear model that minimizes the regularized squared loss.\n",
    "\n",
    "    Parameters\n",
    "    ----------\n",
    "    X : numpy array of shape nxd\n",
    "        The feature matrix where each row corresponds to a single\n",
    "        feature vector.\n",
    "    true_y : numpy array of shape n\n",
    "        The true output vector.\n",
    "    lambda_value : float\n",
    "        A non-negative regularization term.\n",
    "    \n",
    "    Returns\n",
    "    -------\n",
    "    beta : numpy array of shape d\n",
    "        The optimal linear model.\n",
    "    \"\"\"\n",
    "    d = X.shape[1]\n",
    "    inverse_part = np.linalg.inv(np.dot(X.T, X) + lambda_value * np.identity(d, dtype = float))\n",
    "    beta = np.dot(np.dot(inverse_part, X.T), true_y) \n",
    "    return beta"
   ]
  },
  {
   "cell_type": "markdown",
   "metadata": {},
   "source": [
    "We then have:\n",
    "\n",
    "<div align = \"center\"> $H(y, p) = - \\frac{1}{n} \\sum_{i=1}^n \\big{(} y_i\\log(p_i) + (1-y_i)\\log(1-p_i) \\big{)}$ </div>\n",
    "\n",
    "Finding $p$ that minimizes the cross-entropy loss is the same as finding $p$ that maximizes likelihood:\n",
    "\n",
    "<div align = \"center\">$H(y, p) ~ = ~ - \\frac{1}{n} \\sum_{i=1}^n \\big{(} y_i\\log(p_i) + (1-y_i)\\log(1-p_i) \\big{)} ~ = ~ -\\frac{1}{n} \\mathscr{l}(p \\mid y)$\n",
    "    </div>"
   ]
  },
  {
   "cell_type": "code",
   "execution_count": 3,
   "metadata": {},
   "outputs": [],
   "source": [
    "def sigmoid(x):\n",
    "    \"\"\"The sigmoid function.\"\"\"\n",
    "    return 1 / (1 + np.exp(-x))\n",
    "\n",
    "def logistic_predict(X, beta):\n",
    "    \"\"\"Given a linear model (aka a vector) and a feature matrix\n",
    "    predict the probability of the output label being 1 using logistic\n",
    "    regression.\n",
    "    \n",
    "    Parameters\n",
    "    ----------\n",
    "    X : numpy array of shape nxd\n",
    "        The feature matrix where each row corresponds to a single\n",
    "        feature vector.\n",
    "    beta : numpy array of shape d\n",
    "        The linear model.\n",
    "    \n",
    "    Returns\n",
    "    -------\n",
    "    y : numpy array of shape n\n",
    "        The predicted output vector.\n",
    "    \"\"\"\n",
    "    X_beta = np.dot(X, beta)\n",
    "    y = sigmoid(X_beta)\n",
    "    return y\n",
    "\n",
    "def logistic_cross_entropy_loss(X, beta, true_y):\n",
    "    \"\"\"Output the cross entropy loss of a given logistic model.\n",
    "    \n",
    "    Parameters\n",
    "    ----------\n",
    "    X : numpy array of shape nxd\n",
    "        The feature matrix where each row corresponds to a single\n",
    "        feature vector.\n",
    "    beta : numpy array of shape d\n",
    "        The linear model.\n",
    "    true_y : numpy array of shape n\n",
    "        The true output vectors. Consists of 0s and 1s.\n",
    "        \n",
    "    Returns\n",
    "    -------\n",
    "    loss : float\n",
    "        The value of the loss.\n",
    "    \"\"\"\n",
    "    n = X.shape[0]\n",
    "    y_pred = logistic_predict(X, beta)\n",
    "    total_loss = 0\n",
    "    \n",
    "    for i in range(n):\n",
    "        if true_y[i] == 1:\n",
    "            total_loss -= math.log(y_pred[i]) \n",
    "        else:\n",
    "            total_loss -= math.log(1-y_pred[i])\n",
    "    \n",
    "    ce_loss = total_loss/n \n",
    "    \n",
    "    return ce_loss\n",
    "\n",
    "def logistic_cross_entropy_loss_gradient(X, beta, true_y):\n",
    "    \"\"\"Output the gradient of the squared loss evaluated with respect to beta.\n",
    "    \n",
    "    Parameters\n",
    "    ----------\n",
    "    X : numpy array of shape nxd\n",
    "        The feature matrix where each row corresponds to a single\n",
    "        feature vector.\n",
    "    beta : numpy array of shape d\n",
    "        The linear model.\n",
    "    true_y : numpy array of shape n\n",
    "        The true output vectors.\n",
    "        \n",
    "    Returns\n",
    "    -------\n",
    "    loss_gradient : numpy array of shape d\n",
    "        The gradient of the loss evaluated with respect to beta.\n",
    "    \"\"\"\n",
    "    return -np.sum((true_y - sigmoid(X @ beta)) * X.T, axis=1) / X.shape[0]"
   ]
  },
  {
   "cell_type": "code",
   "execution_count": 5,
   "metadata": {},
   "outputs": [],
   "source": [
    "def gradient_descent(X, init_beta, true_y, loss, loss_gradient,\n",
    "                     learning_rate, iterations):\n",
    "    \"\"\"Performs gradient descent on a given loss function and\n",
    "    returns the optimized beta.\n",
    "    \n",
    "    Parameters\n",
    "    ----------\n",
    "    X : numpy array of shape nxd\n",
    "        The feature matrix where each row corresponds to a single\n",
    "        feature vector.\n",
    "    init_beta : numpy array of shape d\n",
    "        The initial value for the linear model.\n",
    "    true_y : numpy array of shape n\n",
    "        The true output vectors.\n",
    "    loss : function\n",
    "        The loss function we are optimizing.\n",
    "    loss_gradient : function\n",
    "        The gradient function that corresponds to the loss function.\n",
    "    learning_rate : float\n",
    "        The learning rate for gradient descent.\n",
    "    iterations : int\n",
    "        The number of iterations to optimize the loss for.\n",
    "\n",
    "    Returns\n",
    "    -------\n",
    "    beta : numpy array of shape d\n",
    "        The optimized beta.\n",
    "    \"\"\"\n",
    "    beta = init_beta\n",
    "\n",
    "    for i in range(iterations):\n",
    "        beta = beta - learning_rate* loss_gradient(X,beta, true_y)\n",
    "    return beta"
   ]
  },
  {
   "cell_type": "markdown",
   "metadata": {},
   "source": [
    "### Error Metrics RMSE\n",
    "For the Boston housing dataset we will use the root mean squared error\n",
    "(RMSE) as our error metric: <br/>\n",
    "<div align = \"center\">RMSE$(\\hat y) = \\sqrt{\\frac{1}{n}\\sum_{i=1}^{n}(\\hat y_i - y_i)^2} = \\frac{1}{\\sqrt{n}}\\| \\hat y - y \\|_2$ </div> \n",
    "where n is the number of datapoints, $\\hat y$ is our predicted price vector and y is the true price vector.<br/>\n",
    "<br/>We'll train a linear regression model by computing:\n",
    "$$\\hat\\beta = \\underset{\\beta}{\\arg\\min} \\|X_{train}\\beta - y_{train} \\|_2^2+ \\lambda\\|\\beta\\|_2^2$$\n",
    " </div>\n"
   ]
  },
  {
   "cell_type": "markdown",
   "metadata": {},
   "source": [
    "- Now, plot the RMSE by using boston_X_train as Xtrain and boston_X_test as Xtest using regularization values $\\lambda \\in \\{0, 10^{-4}, 10^{-3}, 10^{-2}, 10^{-1}, 1, 10\\}$ with raw numerical features without any modification."
   ]
  },
  {
   "cell_type": "code",
   "execution_count": 13,
   "metadata": {},
   "outputs": [],
   "source": [
    "def RMSE(y_pred, true_y):\n",
    "    \"\"\"Given a y_prediction and true_y, calculate the RMSE loss.\n",
    "    \n",
    "    Parameters\n",
    "    ----------\n",
    "    y_pred : numpy array\n",
    "        prediction\n",
    "    true_y : numpy array \n",
    "        True y\n",
    "    \n",
    "    Returns\n",
    "    -------\n",
    "    rmse: float\n",
    "        RMSE of the given set\n",
    "    \"\"\"\n",
    "    n = len(true_y)\n",
    "    total = np.sum((y_pred - true_y)**2)\n",
    "    rmse = math.sqrt(total/n)\n",
    "    return rmse\n",
    "\n",
    "\n",
    "\n",
    "lambdas = [0, 10**(-4), 10**(-3), 10**(-2), 10**(-1), 1, 10]"
   ]
  },
  {
   "cell_type": "code",
   "execution_count": 28,
   "metadata": {},
   "outputs": [],
   "source": [
    "def getRMSE_lambda(lambdas, train_X, train_y, test_X, test_y):\n",
    "    \"\"\"Given a list of lambdas, and X and true y, return the corresponding RMSE\n",
    "    \n",
    "    Parameters\n",
    "    ----------\n",
    "    lambdas : a list of lambdas as regulization factor\n",
    "    train_X : feature matrix of training set\n",
    "    train_y : true y of train set\n",
    "    test_X  : feature matrix of test set\n",
    "    test_y  : true y of the test set\n",
    "    \n",
    "    Returns\n",
    "    -------\n",
    "    rmse_train: list of float\n",
    "        RMSE vs the lambdas on training set, for reference purposes\n",
    "    rmse_test: list of float\n",
    "        RMSE vs the lambdas on test set\n",
    "    \"\"\"\n",
    "    rmse_train = []\n",
    "    rmse_test = []\n",
    "    for l in lambdas:\n",
    "        beta = regression_least_squares(train_X, train_y, l)\n",
    "        y_pred = regression_predict(test_X, beta)\n",
    "        rmse_test.append(RMSE(y_pred, test_y))\n",
    "        y_fit = regression_predict(train_X, beta)\n",
    "        rmse_train.append(RMSE(y_fit, train_y))\n",
    "        \n",
    "    return rmse_test, rmse_train"
   ]
  },
  {
   "cell_type": "code",
   "execution_count": 30,
   "metadata": {},
   "outputs": [],
   "source": [
    "rmse_nonPoly_test, rmse_nonPoly_train = getRMSE_lambda(lambdas,boston_X_train,boston_y_train,boston_X_test,boston_y_test)"
   ]
  },
  {
   "cell_type": "markdown",
   "metadata": {},
   "source": [
    "- Plot the RMSE by using boston_poly_X_train as Xtrain and boston_poly_X_test as Xtest use regularization values $\\lambda \\in \\{0, 10^{-4}, 10^{-3}, 10^{-2}, 10^{-1}, 1, 10\\}$. This corresponds\n",
    "to using features $$\\phi(x) = [1, x_1^2,x_1x_2,x_2^2,.....,x_1x_2^4, x_2^5]^T$$\n",
    "where x corresponds to the original features."
   ]
  },
  {
   "cell_type": "code",
   "execution_count": 36,
   "metadata": {},
   "outputs": [],
   "source": [
    "rmse_Poly_test, rmse_Poly_train = getRMSE_lambda(lambdas,boston_poly_X_train, boston_y_train,boston_poly_X_test,boston_y_test)\n",
    "\n"
   ]
  },
  {
   "cell_type": "code",
   "execution_count": 44,
   "metadata": {},
   "outputs": [
    {
     "data": {
      "image/png": "[encoded data removed]",
      "text/plain": [
       "<Figure size 432x288 with 1 Axes>"
      ]
     },
     "metadata": {
      "needs_background": "light"
     },
     "output_type": "display_data"
    }
   ],
   "source": [
    "plt.plot(lambdas, rmse_nonPoly_test, label = \"non-Poly-test\")\n",
    "plt.plot(lambdas, rmse_nonPoly_train, label = \"non-poly-train\")\n",
    "plt.plot(lambdas, rmse_Poly_test, label = \"Poly-test\")\n",
    "#plt.plot(lambdas, rmse_Poly_train, label = \"poly-train\")\n",
    "plt.xlabel(\"lambdas\")\n",
    "plt.ylabel(\"RMSE\")\n",
    "plt.legend()\n",
    "plt.grid(color='lightgray',linestyle='--')\n",
    "\n",
    "plt.ylim(0,20)\n",
    "plt.show()"
   ]
  },
  {
   "cell_type": "markdown",
   "metadata": {},
   "source": [
    "### Short Recap\n",
    "The regulization doesn't matter too much on the non-poly case, but effectively drops RMSE on the poly case."
   ]
  },
  {
   "cell_type": "markdown",
   "metadata": {},
   "source": [
    "### Error Metric MAE \n",
    "For the Iris dataset we will use the mean average error (MAE) as our metric:\n",
    "<div align = \"center\"> MAE$(\\hat y) = \\frac{1}{n}\\sum_{i=1}^{n}\\mathbb{1}(\\hat y_i \\neq y_i)$\n",
    "</div> \n",
    "where $\\hat y$ is our vector of 0 − 1 predictions and y is the true vector of labels. <br/><br/>\n",
    "Note that the logistic model outputs a real number $p\\in [0, 1]$, which you need to convert to a 0 − 1 decision. To do so use the following decision function:\n",
    "<div align = \"center\">  $\\delta(p) = \\mathbb{1}(p\\geq 0.5)$\n",
    "    </div>"
   ]
  },
  {
   "cell_type": "code",
   "execution_count": 63,
   "metadata": {},
   "outputs": [],
   "source": [
    "def delta(y_pred, true_y, threshold = 0.5):\n",
    "    \"\"\"Given y_pred, true_y, return the error rate decided by logistic regression and delta\n",
    "    \n",
    "    Parameters\n",
    "    ----------\n",
    "    y_pred : numpy array\n",
    "        prediction\n",
    "    true_y : numpy array \n",
    "        True y\n",
    "    threshold: float\n",
    "        The decision threshold, default at 0.5\n",
    "    \n",
    "    Returns\n",
    "    -------\n",
    "    error_rate: float\n",
    "    \"\"\"\n",
    "    n = len(y_pred)\n",
    "    correct = 0\n",
    "    wrong = 0\n",
    "    \n",
    "    for i in range(n):\n",
    "        if y_pred[i] >= 0.5:\n",
    "            if true_y[i] == 1:\n",
    "                correct += 1\n",
    "            else:\n",
    "                wrong += 1\n",
    "        else:\n",
    "            if true_y[i] == 0:\n",
    "                correct += 1\n",
    "            else:\n",
    "                wrong += 1\n",
    "                \n",
    "    error_rate = wrong/(correct + wrong)\n",
    "    return error_rate"
   ]
  },
  {
   "cell_type": "code",
   "execution_count": 72,
   "metadata": {},
   "outputs": [],
   "source": [
    "learning_rates = np.arange(start=0.1, stop=1, step=0.1)\n",
    "init_beta = [0,0,0,0]\n",
    "error_rate_list = []"
   ]
  },
  {
   "cell_type": "code",
   "execution_count": 77,
   "metadata": {},
   "outputs": [],
   "source": [
    "for l in learning_rates:\n",
    "    beta = gradient_descent(iris_X_train, init_beta, iris_y_train, logistic_cross_entropy_loss, \n",
    "                         logistic_cross_entropy_loss_gradient, l, 100)\n",
    "    y_pred = logistic_predict(iris_X_test, beta)\n",
    "    error_rate_list.append(delta(y_pred, iris_y_test))"
   ]
  },
  {
   "cell_type": "markdown",
   "metadata": {},
   "source": [
    "With learning rate varied from 0.1-1, and iteration = 100, we can reach an MAE = 0"
   ]
  },
  {
   "cell_type": "code",
   "execution_count": null,
   "metadata": {},
   "outputs": [],
   "source": []
  }
 ],
 "metadata": {
  "kernelspec": {
   "display_name": "Python 3",
   "language": "python",
   "name": "python3"
  },
  "language_info": {
   "codemirror_mode": {
    "name": "ipython",
    "version": 3
   },
   "file_extension": ".py",
   "mimetype": "text/x-python",
   "name": "python",
   "nbconvert_exporter": "python",
   "pygments_lexer": "ipython3",
   "version": "3.8.3"
  }
 },
 "nbformat": 4,
 "nbformat_minor": 4
}
